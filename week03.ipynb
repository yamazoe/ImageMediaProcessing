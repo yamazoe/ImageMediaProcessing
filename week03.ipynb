{
  "nbformat": 4,
  "nbformat_minor": 0,
  "metadata": {
    "kernelspec": {
      "display_name": "Python [default]",
      "language": "python",
      "name": "python3"
    },
    "language_info": {
      "codemirror_mode": {
        "name": "ipython",
        "version": 3
      },
      "file_extension": ".py",
      "mimetype": "text/x-python",
      "name": "python",
      "nbconvert_exporter": "python",
      "pygments_lexer": "ipython3",
      "version": "3.5.5"
    },
    "colab": {
      "provenance": [],
      "toc_visible": true
    }
  },
  "cells": [
    {
      "cell_type": "markdown",
      "metadata": {
        "id": "HDcf3wZjBoux"
      },
      "source": [
        "# 画像メディア工学３回目"
      ]
    },
    {
      "cell_type": "markdown",
      "metadata": {
        "id": "aL-5kYdbr17v"
      },
      "source": [
        "## 画像（配列）操作とPythonの基礎（条件分岐・繰り返し）\n",
        "ライブラリの読み込み（おまじない）"
      ]
    },
    {
      "cell_type": "code",
      "metadata": {
        "id": "S78K4ee4Bou0"
      },
      "source": [
        "import matplotlib.pyplot as plt\n",
        "import numpy as np\n",
        "import cv2"
      ],
      "execution_count": 1,
      "outputs": []
    },
    {
      "cell_type": "markdown",
      "metadata": {
        "id": "5f3kVbite5-V"
      },
      "source": [
        "### 1 演算子と型変換\n",
        "四則演算や，商と余りは以下のように計算できる．"
      ]
    },
    {
      "cell_type": "code",
      "metadata": {
        "colab": {
          "base_uri": "https://localhost:8080/"
        },
        "id": "EZo-ZAOje6XV",
        "outputId": "e17075db-5684-4fae-ed0a-28d637a59783"
      },
      "source": [
        "print(1+2)\n",
        "print(1-2)\n",
        "print(1*2)\n",
        "print(1/2)\n",
        "\n",
        "print(16//5)\n",
        "print(16%5)"
      ],
      "execution_count": 2,
      "outputs": [
        {
          "output_type": "stream",
          "name": "stdout",
          "text": [
            "3\n",
            "-1\n",
            "2\n",
            "0.5\n",
            "3\n",
            "1\n"
          ]
        }
      ]
    },
    {
      "cell_type": "markdown",
      "metadata": {
        "id": "LmZF-S6Jqz74"
      },
      "source": [
        "整数型への変換は``int()``を利用する．"
      ]
    },
    {
      "cell_type": "code",
      "metadata": {
        "colab": {
          "base_uri": "https://localhost:8080/"
        },
        "id": "7ZIYROl9q1Ko",
        "outputId": "e0e97325-d756-4c36-846f-49fdd067b8bc"
      },
      "source": [
        "print(10/4)\n",
        "print(int(10/4))"
      ],
      "execution_count": 3,
      "outputs": [
        {
          "output_type": "stream",
          "name": "stdout",
          "text": [
            "2.5\n",
            "2\n"
          ]
        }
      ]
    },
    {
      "cell_type": "markdown",
      "metadata": {
        "id": "JGcrAEG8sAt1"
      },
      "source": [
        "今回の課題では使わないが，文字列の掛け算で繰り返しの文字列が作成できる．\n",
        "\n",
        "（詳細は説明しませんが，文字列についてはC言語よりも便利な部分が多くあると思います）"
      ]
    },
    {
      "cell_type": "code",
      "metadata": {
        "colab": {
          "base_uri": "https://localhost:8080/"
        },
        "id": "ZP341oZssHv-",
        "outputId": "b072693a-ad63-409b-c5e1-e0774d67d8fd"
      },
      "source": [
        "str1 = \"123\"*3\n",
        "str2 = \"abcde\"\n",
        "print(str1+str2)"
      ],
      "execution_count": 4,
      "outputs": [
        {
          "output_type": "stream",
          "name": "stdout",
          "text": [
            "123123123abcde\n"
          ]
        }
      ]
    },
    {
      "cell_type": "markdown",
      "metadata": {
        "id": "OxjkAqaeBou1"
      },
      "source": [
        "### 2 条件分岐\n",
        "C言語などと同様に条件分岐には``if``文を用いる．"
      ]
    },
    {
      "cell_type": "code",
      "metadata": {
        "colab": {
          "base_uri": "https://localhost:8080/"
        },
        "id": "mcoIZYnEBou2",
        "outputId": "b845c477-fb8e-491f-cf67-d3ed05ecffd3"
      },
      "source": [
        "a = -1\n",
        "\n",
        "if a < 0:\n",
        "  print(\"aは負の数\")\n",
        "elif a%2 == 1:\n",
        "  print(\"aは奇数\")\n",
        "else:\n",
        "  print(\"aは偶数\")\n"
      ],
      "execution_count": 5,
      "outputs": [
        {
          "output_type": "stream",
          "name": "stdout",
          "text": [
            "aは負の数\n"
          ]
        }
      ]
    },
    {
      "cell_type": "markdown",
      "metadata": {
        "id": "BWgg0HeMTtOh"
      },
      "source": [
        "pythonでは，複数の条件を指定する際に，``if 4 <= month and month <= 9:``といった書き方以外に，``4 <= month <= 9:``といった数学的な表記も可能．"
      ]
    },
    {
      "cell_type": "code",
      "metadata": {
        "colab": {
          "base_uri": "https://localhost:8080/"
        },
        "id": "_JpGWFg6Tsg3",
        "outputId": "c4791cc7-5b41-46aa-dcd8-0c4c3450508a"
      },
      "source": [
        "month = 5\n",
        "\n",
        "# if 4 <= month and month <= 9:\n",
        "if 4 <= month <= 9:\n",
        "  print(\"前期\")\n",
        "else:\n",
        "  print(\"後期\")"
      ],
      "execution_count": 6,
      "outputs": [
        {
          "output_type": "stream",
          "name": "stdout",
          "text": [
            "前期\n"
          ]
        }
      ]
    },
    {
      "cell_type": "markdown",
      "metadata": {
        "id": "T9OtgLlCXWVE"
      },
      "source": [
        "## 3 繰り返し\n",
        "繰り返しとして，``for``文と``while``文がある．\n",
        "\n",
        "``for``文はC言語などとは少し異なり，ある条件を満たすまでといった繰り返しではない．``in``の後ろから一つずつ要素を取り出し，``in``の前の変数に代入していくイメージ．下の例では，配列``[\"ptrhon\", \"C\", \"Java\"]``から順に要素を取り出し表示している．"
      ]
    },
    {
      "cell_type": "code",
      "metadata": {
        "colab": {
          "base_uri": "https://localhost:8080/"
        },
        "id": "pZ1qSIdmXWVJ",
        "outputId": "ff450636-51cd-4709-9979-c913cdc9192b"
      },
      "source": [
        "for lang in [\"ptrhon\", \"C\", \"Java\"]:\n",
        "  print(lang)"
      ],
      "execution_count": 7,
      "outputs": [
        {
          "output_type": "stream",
          "name": "stdout",
          "text": [
            "ptrhon\n",
            "C\n",
            "Java\n"
          ]
        }
      ]
    },
    {
      "cell_type": "markdown",
      "metadata": {
        "id": "LntmXD9mXWVJ"
      },
      "source": [
        "0から4まで5回繰り返しといった繰り返しも可能で，``range()``関数を利用する．5は含まないことに注意．"
      ]
    },
    {
      "cell_type": "code",
      "metadata": {
        "colab": {
          "base_uri": "https://localhost:8080/"
        },
        "id": "vQqrtVpTXWVJ",
        "outputId": "4cee1c56-c233-492e-ecef-e87eda13b900"
      },
      "source": [
        "for i in range(5):\n",
        "  print(i)"
      ],
      "execution_count": 8,
      "outputs": [
        {
          "output_type": "stream",
          "name": "stdout",
          "text": [
            "0\n",
            "1\n",
            "2\n",
            "3\n",
            "4\n"
          ]
        }
      ]
    },
    {
      "cell_type": "markdown",
      "metadata": {
        "id": "MOkV7h1UgQu8"
      },
      "source": [
        "10から30まで5ずつ増加，といった繰り返しも可能．こちらも30は含まない．"
      ]
    },
    {
      "cell_type": "code",
      "metadata": {
        "colab": {
          "base_uri": "https://localhost:8080/"
        },
        "id": "A1uHa6ppY56V",
        "outputId": "f39fffd4-835b-43ad-9619-466a2fc8bf98"
      },
      "source": [
        "for i in range(10,30,5):\n",
        "  print(i)"
      ],
      "execution_count": 9,
      "outputs": [
        {
          "output_type": "stream",
          "name": "stdout",
          "text": [
            "10\n",
            "15\n",
            "20\n",
            "25\n"
          ]
        }
      ]
    },
    {
      "cell_type": "markdown",
      "metadata": {
        "id": "H1dclkSzhYRj"
      },
      "source": [
        "``while``文はC言語などと使い方は同じ．"
      ]
    },
    {
      "cell_type": "code",
      "metadata": {
        "colab": {
          "base_uri": "https://localhost:8080/"
        },
        "id": "qiVMPnclgmOs",
        "outputId": "7911f43d-f83f-4b29-be98-9bf953716cae"
      },
      "source": [
        "i = 0\n",
        "while i<5:\n",
        "  print(i)\n",
        "  i+=1"
      ],
      "execution_count": 10,
      "outputs": [
        {
          "output_type": "stream",
          "name": "stdout",
          "text": [
            "0\n",
            "1\n",
            "2\n",
            "3\n",
            "4\n"
          ]
        }
      ]
    },
    {
      "cell_type": "markdown",
      "metadata": {
        "id": "_RnV8uUf-cqz"
      },
      "source": [
        "## 4 配列操作\n",
        "画像は２次元配列や３次元配列として扱われることが多い．\n",
        "\n",
        "pythonの配列としてリストもあるが，画像を表す配列としてはnumpyの配列が良く用いられるため，以降，numpyの配列のことを「配列」と呼ぶこととする（リストは利用しない）．"
      ]
    },
    {
      "cell_type": "code",
      "metadata": {
        "colab": {
          "base_uri": "https://localhost:8080/"
        },
        "id": "mjAuZRqAvXGf",
        "outputId": "033ec2ea-f02f-4377-9097-cc050a2f4320"
      },
      "source": [
        "# リスト この演習では利用しない\n",
        "arr0 = [[1,2,3,4,5],[6,7,8,9,10]]\n",
        "print(arr0)\n",
        "\n",
        "# numpyの配列　この演習では，こちらを「配列」と呼ぶ\n",
        "arr = np.array([[1,2,3,4,5],[6,7,8,9,10]])\n",
        "print(arr)"
      ],
      "execution_count": 11,
      "outputs": [
        {
          "output_type": "stream",
          "name": "stdout",
          "text": [
            "[[1, 2, 3, 4, 5], [6, 7, 8, 9, 10]]\n",
            "[[ 1  2  3  4  5]\n",
            " [ 6  7  8  9 10]]\n"
          ]
        }
      ]
    },
    {
      "cell_type": "markdown",
      "metadata": {
        "id": "fNgA--jQw8tI"
      },
      "source": [
        "配列へのアクセスは，1か所だけ指定する方法以外に，範囲指定などの様々な方法が存在する．"
      ]
    },
    {
      "cell_type": "code",
      "metadata": {
        "colab": {
          "base_uri": "https://localhost:8080/"
        },
        "id": "Nwd46TJyxTFt",
        "outputId": "51bab1c8-aa27-4458-caa2-055970b5b854"
      },
      "source": [
        "print(arr[0, 1])\n",
        "print(arr[0, 0:3])  # 0～2番目まで（3番目は含まない）\n",
        "print(arr[0, :3])   # 最初からの場合は前の数字は省略してもよい\n",
        "print(arr[0, 3:5])  # 3～4番目まで（5番目は含まない）\n",
        "print(arr[0, 3:])   # 最後までの場合は後ろの数字は省略してもよい"
      ],
      "execution_count": 12,
      "outputs": [
        {
          "output_type": "stream",
          "name": "stdout",
          "text": [
            "2\n",
            "[1 2 3]\n",
            "[1 2 3]\n",
            "[4 5]\n",
            "[4 5]\n"
          ]
        }
      ]
    },
    {
      "cell_type": "markdown",
      "metadata": {
        "id": "f7C0Ts3ZxS1o"
      },
      "source": [
        "2つおきにアクセス，後ろから２番目にアクセスといったこともできる．"
      ]
    },
    {
      "cell_type": "code",
      "metadata": {
        "id": "HrdnBiCd1k6y",
        "colab": {
          "base_uri": "https://localhost:8080/"
        },
        "outputId": "7047d78b-4568-43d8-815f-7cdbe256df79"
      },
      "source": [
        "print(arr[0, 0:5:2])  # 0～4番目まで２つおき\n",
        "\n",
        "print(arr[0, -1])     # 後ろから1番目\n",
        "print(arr[0, -2])     # 後ろから2番目"
      ],
      "execution_count": 13,
      "outputs": [
        {
          "output_type": "stream",
          "name": "stdout",
          "text": [
            "[1 3 5]\n",
            "5\n",
            "4\n"
          ]
        }
      ]
    },
    {
      "cell_type": "markdown",
      "metadata": {
        "id": "UdUzEvEZh8qa"
      },
      "source": [
        "# 課題\n",
        "以下の画像を作成するプログラムを完成させてください．\n",
        "画像サイズ$255\\times255$の真っ黒の画像作成部分は準備されていますので，「# ここに処理を書いてください」のところに，適切な処理を追加してください．\n",
        "\n",
        "※ 注意：``for``文や配列操作を使ってください．\n",
        "\n",
        "**問題１は提出必須とします**．問題２～４は少し難しいと思いますので，提出必須とはしません．できた人だけ提出してください．また提出は，追加部分のみとしてください．\n",
        "\n"
      ]
    },
    {
      "cell_type": "markdown",
      "source": [
        "#### 例題\n",
        "![image.png](data:image/png;base64,iVBORw0KGgoAAAANSUhEUgAAAQcAAAEICAYAAABS/TFyAAAVrUlEQVR4nO3debSkZX0n8E8PtBj2RcWWHQTBnDkHPUCYqCQxjhpmHMgY2RRwxGAMRp3EKEIiODo5g+MWFB1IVGSRZYIGNBoFo9GMikAOWzc0TbOEtRFZRZZG7/zxq+utbu7tvktVvW9VfT/nvOdWvfXeWz+Ke7/9vs/zPs9DRERERERERERERERERERE4M34l6aLiHX7d00XEH1xGx7Hz7q2TzdaUQydDZsuIPrmdbis6SJieOXMYbx8Fhd1PT8F38YibIWv4Sd4sPN4+65jv4sP4wfqTOSr2Abn4hFcgZ27jp/AO3EL7sf/NvPv2564FA9gOQ6Z539fRKzHbXjVNPs3xk3qmv8V6o92MgC2wes7x2yG/4u/7/re7+Jm7IYtsKzzs16lzkDPwhe6jp/Ad7A1duwc+9bOa91tDpvgDvy3zs95SaeuF8/1Pzoi1u829a/7Q13bH3Ze+w31L/TtOHwdP2NvdQYx6bs4sev5x/CNruevw9Vdzyfw2q7nf6zOUlgzHA7F99d679Nx0jpqiwFIm8PoOtj0bQ6Xq1P95+HCrv0b4xPqD3qrzr7NsAF+0Xm+quv4x6d5vula73VH1+Pb8YJp6tlJBdZDXfs2xNnTHBsDlDaH8XMcNsLdeG/X/j/Di9Qf6uY4oLN/0QLea4euxzt23nNtd+CfsWXXtinevoD3jR5IOIyXPVSj4ptwpAqHvTuvbab+9X9ItRP04rT+z9VZyA54Fy6Y5pivdeo6Eos7277YqwfvHwuQcBhdX7XmfQ5fwTmqh+IarMAJ6vR9I3wSv6YaA3+Ef+xBDRfjKtUW8Q/43DTHPIpX4zB1ZnFvp8aNevD+EdFCE3hh00XE/OXMISKmlXCIiIF7rbrb7WYc33AtEdESG2AldsWzVANY7niLGCL9uglqP3XGcEvn+fk4SN1y+wxbMPEYnu5TMRGB6ol67mwP7lebw3bWvDvuzs6+bsfiSlz5KM6Qpu2IPrt9Lgc32SB5BvbBPr/EX+EoufaIaIt+hcNd1rx1dvvOvhndrK493qgaKiKiWf0KhyuwO3ZRDZKH4ZL1fdMydQvdh9UN9hHRnH6Fw9N4B76JG9Tov6Wz+cZb1Nje76ib7COiGQsZcddLE2vvWKyG6h2M+wZeTsRIukq1881Ka++QXK2C4cPq+iQiBqu14UCdMXxUNVKmFyNisFodDtTEgxeqwf47r+fYiOid1ocD1Ytxupq+ePOGa4kYF0MRDtSMqceomUif1XAtEeNgaMKBWhxhXzVr6vMbriVi1A1VOMBTasWTv1SzoUZEfwxdOFCTDJ6qFl1IL0ZEfwxlOFCzyFyoVkfZseFaIkbR0IYD1YtxmjqL2KThWiJGzVCHAzVA/U34ocxlHtFLQx8O1KIM++Hrpl9vLSLmbiTCAZ5Qd1EeL70YEb0wMuFALZd0mpo8ImupRSzMSIUDU70Yb7XmVFQRMTcjFw7U7DKfVOMxNm64lohhNZLhQE19/Qe4XK0OGxFzM7LhAD9XvRhflkuMiLka6XCAx9UCGX+KPRuuJWKYjHw4UJcYZ+BQCYiI2RqLcKAaKS/AH3nm0lsR8UxjEw5wo5pN6kw8u+FaItpurMKBWnbrdWrVnQzWipjZ2IUDdav1/mr5vfRiRExvLMMBHlMra71TJoyJmM7YhgPVi/EFvEEGa0WsbazDgZow5nz8CZY0XEtEm4x9OFCDtf4nzpNp7yMmJRw67sFrcCU2a7iWiDZIOHR5Ei/DF7FTw7VENC3hsJZH8d/xdpkwJsZbwmEat+MsNRZjj4ZriWhKwmEGy/AlNZpz24ZriWjCQsPhNlyHq1VbHmyNS7Gi83WrBb5HY27CSbhIejFi/PTizOF3sDf26Tw/Ht/G7p2vx/fgPRqzCq/Ej7FFw7VEDFI/LisOUg3+Ol8P7sN7DNRT+C01J+WuDdcSMSgLDYcJfAtXqQmXqEv0ezqP7zXzJfux6lLkyhleb5WHcYKa1TpjMSLWb3LelOfhGhyAh9Y65sFZ/JyJYdlezMQHmdi9BbVkyzbHbU7/EC/0zOGuztf78BU1n+sqU8MUlnReGxnLcA7eh+c2XEtEPy0kHDYxdafxJng1rsclOLqz/2hcvID3aKUVeD++isUN1xLRRruqS4lrsBQndvZvo3opVuAy1bW5Pk2fbs1rW8zEvzKxVQtqyZZtFtucLisWzeXgPppouoD52gqfwgdwS8O1RKzHVaZuOViv3CG5QA+qG6Xegl9vuJaIXko49MBKNRfEodit4VoieiXh0CNL1R1fH1CNLhHDLuHQQyvVQK1vYsOGa4lYqIRDj/1UTXv/Azyn4VoiFiLh0AdP40C1utYLG64lYr4SDn1yv5q09igZixHDKeHQRzerae/fKKM5Y/gkHPpsGT6HD2HLhmuJmIuEwwDcguPwTzIWI4ZHwmFAHsJv4HsymjOGQ8JhgFbjv6iGysxqHW2XcBiwn+CjqpEyvRjRZgmHBtyEC3Akdmm4loiZJBwasgxn4BRs3nAtEdNJODToVjVh7fdlXYxon4RDwx7BvmrqrKysFW2ScGiBp/AHatKY9GJEWyQcWmIV/hpHSC9GtEPCoUWW40I1ZfdODdcSkXBomWX4DD6JTRuuJcZbwqGFblf3QPwAGzVcS4yvhENL/Uz1YnwdL2i4lhhPCYcWe1KdQbwfL2q4lhg/CYeWuxufxmHYq+FaYrwkHIbAZC/GMdih4VpifCQchsQN6j6Iz2LjhmuJ8ZBwGCJ34BBcjmc3XEuMvoTDkPm56sW4GNs1XEuMtoTDEHpCtT+8Rxopo38SDkPqTjUfxCHYs+FaYjQlHIbYDWpGqT+SS4zovYTDkLtRLbv3BWmkjN5KOIyAu9Ss1ldIN2f0zmzC4fO4D9d37dsal2JF5+tWnf2LcKpaCe5avLRnlcY6PaHWxbhQbpSK3phNOJyJ166173g1s9nuna/Hd/b/Xmff7jhW3bMTA/JzvB3vkl6MGJydrXnmsBxLOo+XdJ7D6Th8huPWZSJb77a9mDiJiT1bUEu2Vm1XmoP5tjlsi3s6j+81NTfqdupGvkl3mrkh/VhV7JwKjvWb7MU4zuySOWI6vWiQnEyluToD+3S26LEb8Vf4kkx7H/Mz33BYZc3Livs6j++yZnvY9p190YB7VGPRlTLlXMzdfMPhEjUPqs7Xi7v2H6V6LfbHw6YuP6IBT+JlOFsmrY3eO0/9ga9WbQjHYBvVS7ECl6muTSoUTsNKXGf2lwxNN9SM/LYTE6eoxsqma8nW2Dan9r1Fczm4jyaaLmAc7IVDVdovX8+xMZKuMoc2vtwhOUZuUMHwbll6L9Yv4TBmluNk/J30YsS6JRzG0Cr8rhqLsXnDtUR7JRzG1FN4Bf5W3f4asbaEwxh7BO9Tt6pm8d5YW8JhzN2Kc1Uvxu4N1xLtknAIS3EO3ovnNlxLtEfCIVB3s52gbnFd3HAt0Q4Jh/iVn+AAtS7Glg3XEs1LOMQaVuOV6h74XRuuJZqVcIhneAh/ibdIL8Y4SzjEtG5Rc0Echhc2XEs0I+EQM1qmhnqfqIbhxnhJOMQ6rVDL7v0jNmy4lhishEOs10/xm/ihnEGMk4RDzMpqNeXcx6UNYlwkHGLWfooPqXkB04sx+hIOMSc3qwljjsBuDdcS/ZVwiDlbphbu/aCpdRBj9CQcYl5W4k/ULMMZizGaEg4xbw+qxXu/L6M5R1HCIRZkNV6nVtfKfBCjJeEQC/YTfARvkl6MUZJwiJ5YgQtVQOzScC3RGwmH6Jml+Bv8L5nVehQkHKKnblUT1n5P1sUYdgmH6LmHsR/+SVbWGmYJh+iLp/B6daPUHg3XEvOTcIi+WaUGah0hvRjDKOEQfXWT6sU4Gjs1XEvMTcIh+m4ZPoNPYLOGa4nZSzjEQNyuzh7+n/RiDIuEQwzMo9gX38SShmuJ9Us4xEA9iTeqSWtf1HAtsW6zCYfP4z5c37XvZNyFqzvbgV2vvV/NCbIcr+lNmTFK7san1LT3ezVcSyzMAXipZ4bDe6Y59sW4BhupW+xXYoNZvMdEtvHb9mLio0zs2IJaxmS70hzM5szhe3hglj/vIJyvzh5vVWcQ+82loBgfN+BUtfTeJg3XEs+0kDaHd+BaddkxOVvYdrij65g7O/umc6xKsjmlWYyWf1OXFz/CsxuuJdY033D4rJpfdG/cg4/N42ecgX06W4yxx1QvxlfN/C9JDN58w2EVfoFfqlG6k5cOd2GHruO27+yLWKcn8Gb8OfZsuJYo8w2H7m7q3zfVWHmJOkucbJDcHT+ed3UxVu7C/8Gh0ovRBrNZ/vA8/Daeo9oQTuo831u1gN6Gt3WOXapupV+Gp3GcOsOImJUb1S/Qsepa9c5myxlri5ouoGOi6QKiXbbH3+JgdckRPXGVObTx5Q7JaKU71fXqFdi44VrGVcIhWutxtS7G31mzlTsGI+EQrfZz1aD1bmmkHLSEQ7TeHar94RDp5hykhEMMhRtwAf4YL2i4lnGRcIihcaNaE+NsdSNN9FfCIYbK3Wp+gCuwacO1jLqEQwydJ/Gb6gwik9b2T8IhhtLPVA/GcdKL0S8Jhxhat+NMNRYjU871XsIhhtoyNfjnXXh+w7WMmoRDDL3l+B9qwFamve+dhEOMhHvxKtWLsXnDtYyKhEOMjKfwCnwOOzdcyyhIOMRIeUTNJvU2/HrDtQy7hEOMnNtwDt6gpiKL+Uk4xEhainPVWcTzGq5lWCUcYmStwF/g77G44VqGUcIhRtp9+C1cji0brmXYJBxi5K3GK/EZ7NpwLcMk4RBj4SF1iXGMWtA11i/hEGPjFtVIeRhe2HAtwyDhEGNlGc7CCWohlphZwiHGzs14L74uvRjrknCIsXQ/XoYfYuuGa2mrhEOMrdV4NT4hbRDTSTjEWHsAH8LR0ouxtoRDjL2b1YQxR2C3hmtpk4RDhOrF+AJOxlYN19IWCYeIjpV4Jy6TXgwSDhFreBD741/kPoiEQ8RaVuM/4RTj3YuRcIiYxv1q6b0jje+MUrMJhx3wHdVms1TNAk7dO3KpGjZ/qal2nEU4VTUCX4uX9rDeiIFZoWa0PgK7NFxLWy0x9Qe+GW5SXcIfwfGd/cerszBqKcNvqJDYXw2lX5+JbNnauu3CxPlMbNGCWha4XanPLsZ/VMsFLOnsW9J5Dqfj8K7ju4+bSdMfWrZs69y2YOJqJha3oJYFbHMKh7m2OeyMl6izgW1xT2f/vZ3nsB3u6PqeOzv71nasKrbvaRaxUA9jX3V9ve16jh0VcwmHTXGRWr/0kbVem0ymuTgD+3S2iNZbjder1bX2aLiWQZhtOCxWwXAuvtzZt8qalxX3dR7fpRoxJ23f2Rcx9FbhY6qRctRX955NOCxSiwjdgI937b9EjVfR+Xpx1/6jTDVIPmzq8iNi6N2kejGOlpW1Xq4uGa7F1Z3tQGyDb6sen8tMDYtfhNPU3ajXmd1lQ9MNNdmyzXnbmYmLmNisBbXMcptT+96iuRzcRxNNFxAxH5upW633VWt1ttxV5tDGlzskIxbgURUM38LzG66l1xIOEQv0lLqx5y+wZ8O19FLCIaIH7sGn1bT3o9KLkXCI6JEbcQHegh0brqUXEg4RPXQDPqXOIjZpuJaFSjhE9Ni/qTaIH+LZDdeyEAmHiD54DPvha3hBw7XMV8Ihok+eULcKv89w9mIkHCL66G58Focavl6MhENEn92oxmK8VY1CHBYJh4gBuEEtu/c3+LWGa5mthEPEgNyJ/4ofG46ASDhEDNDjqhfjy9p/iZFwiBiwx/GH+FPt7sVIOEQ04E41T+Kh2hsQCYeIhkyOxXi7dt4olXCIaNCNagGYs7BRw7WsLeEQ0bC78J9xhXYN1ko4RLTAE/gP+JL2DPdOOES0xGN4J96h1ptsWsIhokVux5l4A17UcC0Jh4iWWYbz1VlEk5PWJhwiWmg5PqS6Op/VUA0Jh4iWulctZ3+FWh9j0BIOES32lFpy7kyDX3ov4RDRco/iz/A2g+3FSDhEDIHbcDYOwR4Des+EQ8SQWIbz1GjO5w3g/RIOEUNkOT6Ar2Bxn98r4RAxZO7Db6sZpbbo4/skHCKG0Gr8Dk7Hrn16j4RDxJB6CCeoWa370YuRcIgYYrfgHLW69+49/tkJh4ght0x1cx6P5/Tw584mHHbAdzo1LMW7OvtPVvNUXN3ZDuz6nvfjZtW4+ppeFRsR01uhlt37B/3vxei2BC/tPN4MN6lLnJPxnmmOfzGuUbNe7YKV2GA97zGRLVu2hW+LmbiKia2mf/1KczCbM4d78K+dx4+qxXu2W8fxB6kRp0/iVnUGsd9cioqI+VmNV+GvsdsCf9Zc2xx2xktweef5O3AtPo+tOvu2wx1d33On6cPkWJVkc0qziFi3B/FBvNnCejHmEg6b4iK8G4+oxYN3w97q7OJjc3zvM7BPZ4uIHlqpTt8PN/8ziNmGw2IVDOeqlbxgFX6BX6r1QScvHe5SjZiTtu/si4gBWqqGep+Erefx/bMJh0X4nGpr+HjX/iVdj38f13ceX6K6XScbJHdXd3pGxICtVKf6/zyP791wFse8DEfiOtVlSd2Ydbi6pJhQI0rf1nltKS5UXZ9P4zh1hrEu96vJd++fQ+1NeY7hqJPU2g/DUiedWh/Av6/nOzVZzEIMS8PksNRJau2HYamTBdaaOyQjYloJh4iY1vruXBy0q5ouYJaGpU5Saz8MS50MV60RERERERG99lo1tPtmNSS9bW4zdY/HZNfQ1rhUjZS91NS4kkH7vJpS8PqufTPVtginqs/5WlMjbQdhujrbOOR/pukJ2viZjvxUChuom7h2VUsCXqMdq493u80z59D4iKkgOx6nDLSiKQeoX8juP7qZajsQ31C/0PubGjw3CNPV2csh/70y0/QEbfxM+z6VQtNdmfupJLtFrfx1vhry3XYH4Yudx1/EwQ3V8T08sNa+mWo7CGepO1p/hC2teQt8P01X50yaHPI/0/QEbfxM+z6VQtPhMNvh3U2awLdUl9CxnX3bqv851Hqn2zZQ10xmqq2Nn/VChvz3W/f0BG3/THs5lcKvNB0Ow+Dl6vTt99Q4kQPWen1ylp02anNtCx3y309rT0/QrW2faa+nUviVpsNhGIZ3T9Zzn1poaD81XH3y9HFJ57W2mKm2tn3WbR3yP9P0BG38TPs6lULT4XCFGtK9i2qQPEwN+W6LTVRjz+TjV6tGtUtwdGf/0bh48KXNaKbaLsFRphrPHjZ1qtyENg75n2l6gjZ+pmMxlcKBqqV1JU5suJa17apaeK9R3UWT9W2Db6uurcvMby6NXjhP/TKuVteQx6yjtkU4TX3O1xnsDFzT1Xl2p45r1S9u9y/1iZ06l6vLuUF5ubpkuNaaXYFt/ExnqrWNn2tEREREREREREREREREREREX/1/jDjTQMWL4SsAAAAASUVORK5CYII=)\n",
        "\n",
        "この場合は，以下の部分を提出してください．\n",
        "\n",
        "```\n",
        "for i in range(255):\n",
        "  img_ex[i,i,0] = 255\n",
        "```"
      ],
      "metadata": {
        "id": "qWs5VDUuRB0M"
      }
    },
    {
      "cell_type": "code",
      "metadata": {
        "colab": {
          "base_uri": "https://localhost:8080/",
          "height": 452
        },
        "id": "QtD1EyEmhqY7",
        "outputId": "2e0aeb90-58a4-4bc5-8efe-a14a4e6e9108"
      },
      "source": [
        "img_ex = np.zeros((255, 255, 3), dtype=np.uint8)\n",
        "\n",
        "for i in range(255):\n",
        "  img_ex[i,i,0] = 255\n",
        "plt.imshow(img_ex)"
      ],
      "execution_count": 14,
      "outputs": [
        {
          "output_type": "execute_result",
          "data": {
            "text/plain": [
              "<matplotlib.image.AxesImage at 0x7ee5da67c2b0>"
            ]
          },
          "metadata": {},
          "execution_count": 14
        },
        {
          "output_type": "display_data",
          "data": {
            "text/plain": [
              "<Figure size 640x480 with 1 Axes>"
            ],
            "image/png": "[encoded data removed]"
          },
          "metadata": {}
        }
      ]
    },
    {
      "cell_type": "markdown",
      "source": [
        "#### 問題１\n",
        "線の色はマゼンタです\n",
        "\n",
        "![image.png](data:image/png;base64,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)"
      ],
      "metadata": {
        "id": "Nd_I6sBTNukG"
      }
    },
    {
      "cell_type": "code",
      "metadata": {
        "colab": {
          "base_uri": "https://localhost:8080/",
          "height": 452
        },
        "id": "lvyPnYvXiJu2",
        "outputId": "a31f6468-e027-4eb8-fa19-f4eef8a12f6d"
      },
      "source": [
        "img1 = np.zeros((255, 255, 3), dtype=np.uint8)\n",
        "\n",
        "# ここに処理を書いてください\n",
        "\n",
        "plt.imshow(img1)"
      ],
      "execution_count": 15,
      "outputs": [
        {
          "output_type": "execute_result",
          "data": {
            "text/plain": [
              "<matplotlib.image.AxesImage at 0x7ee5da54f400>"
            ]
          },
          "metadata": {},
          "execution_count": 15
        },
        {
          "output_type": "display_data",
          "data": {
            "text/plain": [
              "<Figure size 640x480 with 1 Axes>"
            ],
            "image/png": "[encoded data removed]"
          },
          "metadata": {}
        }
      ]
    },
    {
      "cell_type": "markdown",
      "source": [
        "#### 問題２\n",
        "\n",
        "![image.png](data:image/png;base64,iVBORw0KGgoAAAANSUhEUgAAAQcAAAEICAYAAABS/TFyAAAPTElEQVR4nO3cf6zddX3H8eehim6UrFS25tI2FGZdgvuBhBUyGGNhUehirv5Dij9aHUvNBgsmLKFqpkRjwhaFjehgdXQWY+m6KaEx6ChVglusQhUKhTEKtmlvSrsiQpGJtp798fkc77enn3Pv95x7z/2+L30+kk/uOZ/v+fHul3tffL6fz/f7BUmSJEmSJEmSJEmSJKlZu4E/abqISVwIbAF+BPwv8G/ASKMV6ZdOaroAndBOA9YCS4AzgcPAvzRakXQCqI4cPgD8F3AL8GPgWeAPcv9e4CCwqvLePwV+ALyUt9/Y9dkrgT3A88DfdH3XScAa4Jm8fRMwv2bN55ECQgE4cjhxXADsAN4EbAA2Ar8PvBl4H/A5YG5+7U9IATCPFBR/AbwrbzsH+EfgvaRDgF8DFla+56/ya/8IOAN4Afh8zRovAXb2/S+T1JfukcPTlW2/A7SBBZW+54Fze3zW35NGHQAfB+6qbPtV4GeV73oSuKyyfQT4OfC6Ser9XdLcwx9O8jrNkMn+g+m140Dl8f/16OuMHC4AbgJ+GzgZeANpshDSaGBv5X2vkIKl40zgbuAXlb6jpCAa61Hbm4GvA9cB3578n6KZ4GGFSjYAm4HFpMOG24FW3rYfWFR57a+QDlU69gJXkA5JOu2N9A6GM4H7gU8BX5qe8jUdDAeVnEoa4v8UWAa8p7Lt34F3kiY0TyZNVrYq228HPk36owf4dWC0x/csBL5Jmu+4fZpq1zQxHFTyl8AnSSsHHyetOHTsJE06biSNIl4mrXa8mrf/A2nUcV9+/zbSYUrJnwNnkwLm5UqT9BowFzgCnNV0IZKa907SKsUppMOBH3DsoYWkE9Q/k06mehHYCvxWs+VotrkceArYRTpjTpKYQzp99mzSjPajpDPrJM0SwzoJahlpxPBsfr6RtJz1RI/Xt4/v6j6Enez5IO+J8hmTvSZKnTPxbx3G86Y+Yya+t5/Xbz9EWlquZVjhsJBjz6Lbx/HLWatzA6BFC45rJxX6pqt/mJ/dVH+kWvw3Rfs3tZmzhz40efr02twA2q0GC5FOBIXh+YSGFQ5jpFNvOxbR+/RZIGWbpDiGFQ4PAUtJJ8aMASs49hTc4xgOUizDCocjwLXAf5BWLtYxwXX6naMiSXEMc87h3txq8SIPKZYw93Nw5CDFYjhIKgoRDs45SPGECAcwHKRoDAdJRWHCwdUKKZYQ4eCcgxRPiHAAw0GKxnCQVGQ4SCoyHCQVhQiHzu0pJMURIhzAkYMUjeEgqchwkFQUIhw8CUqKJ0Q4gOEgRRMmHFytkGIJEw6OHKRYQoSDcw5SPCHCAQwHKRrDQVJRmHBwQlKKJUQ4OOcgxRMiHMBwkKIxHCQVGQ6SigwHSUUhwsGbvUjxhAgHcOQgRWM4SCoyHCQVhQgHT4KS4plqOOwGDgNHgSPA+cB84F+BJXn7lcALk32Q4SDFMh0jhz8GDlWerwG2Ajflx2uAGyb7EFcrpFiGcVgxClyaH68HHqBGODhykGKZaji0gfvyz38C1gILgP15+3P5ecnq3DiK4SBFM9VwuBgYA34D2AL8d9f2dm4la3PjddA2HKRYphoOY/nnQeBuYBlwABghjR5G8rZJGQ5SLFMJh1NI84iH8+O3A58ENgOrSBOSq4B76nyY4SDFMpVwWEAaLXQ+ZwPwDeAhYBNwNbCHtJQ5Ia+tkOKZSjg8C/xeof954LJ+P8yRgxRLiDMkwXCQojEcJBUZDpKKQoSDF15J8YQIB3C1QoomTDg4cpBiMRwkFYUIB+ccpHhChAMYDlI0hoOkojDh4GqFFEuIcHDOQYonRDiA4SBFYzhIKjIcJBUZDpKKQoSDd4KS4gkRDuDIQYrGcJBUZDhIKgoRDp4EJcUTIhzAcJCiCRMOrlZIsYQIBw8rpHhChAMYDlI0hoOkIsNBUpHhIKkoRDh4bYUUT4hwAEcOUjSGg6Qiw0FSUYhw8CQoKZ4Q4QBOSErR1PmbXAccBB6v9M0HtgBP55+n5f4WcCuwC9gBnFe3kJbNZhtq61edcPgicHlX3xpgK7A0/1yT+6/IfUuB1cBtdQtpesfZbK/11q86hxUPAku6+kaBS/Pj9cADwA25/06gDWwD5gEjwP6JvmDQ4iUNz6BzDgsY/4N/Lj8HWAjsrbxuX+4rhcPq3PgphoMUzXRMSLZz69fa3HgjtA0HKZZBw+EA44cLI6QJS4AxYHHldYty36RcrZBiGfRvcjOwKj9eBdxT6V9JOkq4EHiRSeYboPmJGpvtRGj9qjNyuIs0+Xg6aQ7hE8BNwCbgamAPcGV+7b3ActJS5ivAB+sWMkjxkoanTjhc1aP/skJfG7hmkEIMBymWMGdIGg5SLIaDpKIQ4dDC1QopmhDhAI4cpGgMB0lFhoOkohDhMOhJGpKGJ0Q4gOEgRRMmHFytkGIJEw6OHKRYQoSDcw5SPCHCAQwHKRrDQVKR4SCpKEQ4eG2FFE+IcABHDlI0hoOkIsNBUpHhIKkoRDh4EpQUT4hwAFcrpGjChIMjBykWw0FSUYhwcM5BiidEOIDhIEVjOEgqChMOrlZIsYQIB+ccpHhChAMYDlI0hoOkIsNBUpHhIKkoRDh4JygpnhDhAI4cpGjq/A97HXAQeLzSdyMwBjyS2/LKto8Au4CngHfULaRls9mG2vpVZ+TwReBzwJ1d/bcAn+nqOwdYAbwVOAO4H3gLcHSyLxmkeEnDUyccHgSW1Py8UWAj8CrwQ9IIYhnwnYneNGiySRqeqcw5XAusBB4GrgdeABYC2yqv2Zf7SlbnxssYDlI0g4bDbcCngHb++Vngz/r8jLW5MRfarlZIsQwaDgcqj78AfC0/HgMWV7Ytyn2TcuQgxTJoOIwA+/PjdzO+krEZ2ADcTJqQXAp8b7IPc85BiqdOONwFXAqcTppD+ER+fi7psGI38KH82p3AJuAJ4AhwDTVWKsBwkKKpEw5XFfrumOD1n86tL4aDFEuYMySdkJRiCREOzjlI8YQIBzAcpGgMB0lFhoOkohDh4JyDFE+IcABXK6RowoSDIwcpFsNBUlGIcHDOQYonRDiA4SBFYzhIKgoTDq5WSLGECAfnHKR4QoQDGA5SNIaDpCLDQVKR4SCpKEQ4tHC1QoomRDiAIwcpGsNBUpHhIKkoRDh4EpQUT4hwAMNBiiZMOLhaIcUSJhwcOUixhAgH5xykeEKEAxgOUjSGg6Qiw0FSUYhw8NoKKZ4Q4QCOHKRoDAdJRXVG84uBbwFPADuB63L/fGAL8HT+eVrubwG3AruAHcB5dQpp2Wy2obZ+1Rk5HAGuB74PnApsJ4XBB4CtwE3AmtxuAK4AluZ2AXBb/jmhQYqXNDx1wmF/bgCHgSeBhcAocGnuXw88QAqHUeBOoA1sA+YBI5XPOM6gySZpePqdc1gCvA34LrCA8T/45/JzSMGxt/KefbmvOxxW58aPcbVCiqafcJgLfAX4MPBS17Z2bv1YmxvzoO3IQYqlbji8nhQMXwa+mvsOMH64MAIczP1jpEnMjkW5b0KGgxRLndF8C7iDNNdwc6V/M7AqP14F3FPpX5nfdyHwIhPMN3S+wGazDbf1q87I4SLg/cBjwCO576OkVYpNwNXAHuDKvO1eYDlpKfMV4IN1ChmkeEnDUycc/pPef7uXFfrawDX9FmI4SLGEOUPS1QoplhDhMOgxkaThCREOYDhI0RgOkooMB0lFhoOkohDh0MLVCimaEOEAjhykaAwHSUWGg6SiEOHgSVBSPCHCAZyQlKIJEw6OHKRYDAdJRSHCwTkHKZ4Q4QCGgxSN4SCpKEw4uFohxRIiHJxzkOIJEQ5gOEjRGA6SigwHSUWGg6SiEOHgzV6keEKEAzhykKIxHCQVGQ6SikKEgydBSfGECAcwHKRowoSDqxVSLCHCwcMKKZ4Q4QCGgxSN4SCpyHCQVFRnHnAx8C3gCWAncF3uvxEYAx7JbXnlPR8BdgFPAe+oU0jLZrMNtfWrzsjhCHA98H3gVGA7sCVvuwX4TNfrzwFWAG8FzgDuB94CHO31BS1crZCiqRMO+3MDOAw8CSyc4PWjwEbgVeCHpBHEMuA7E33JIMkmaXj6nXNYArwN+C5wEXAtsBJ4mDS6eIEUHNsq79lHOUxW58YhDAcpmn5G83OBrwAfBl4CbgN+EziXNLL4bJ/fvRY4Hzj/dJo/HrPZXuutX3VHDq8nBcOXga/mvgOV7V8AvpYfj5EmMTsW5b6eBi1e0vDUCYcWcAdpruHmSv8I43MR7wYez483Axvya88AlgLfq/MlkuKoEw4XAe8HHiMtWQJ8FLiKdEjRBnYDH8rbdgKbSEufR4BrmGClAmA7HJpD+yfQPtTvP6ABp5OmSWYDa51+s6VOOL7WM5sqZKoebrqAmmZLnWCtwzBb6oQp1urpBZKKDAdJRXOaLqDL9qYLqGm21AnWOgyzpU6YXbVKkiRJ0nS7nHRp9y5gTcO1lOxm/ByPztLQfNKVqU/nn6c1UxrrgIOMn4AGvWtrAbeS9vMO4LyZK7NY57Re8j9Net2eIOI+nZFbKTRpDvAMcDZwMvAo6ZLvSHaTTiap+jvGg2wN8LczWtG4S0i/kNU/ul61LQe+TvqFvpB08dxMKdV5I/DXhdeeQ/o9eANwFun3Y6YmzkcY/wM/FfifXE/Efdqr1mnbr00vZS4jJdmzwM9Il3qPNlpRPaPA+vx4PfCuhup4EPhRV1+v2kaBO0lntG4D5pF+wWZCqc5eel3yPxP2k+5bAsfeniDiPu1Vay9979emw2EhsLfyvNfl3U1qA/eRloRW574FjF9X8lx+HkWv2iLu62tJw/F1jA/Vo9RZvT1B9H1arRWmab82HQ6zwcWk4dsVpOtELuna3s4tosi1TfWS/2Hqvj1BVbR9Ot23UvilpsOh78u7G9Cp5yBwN2kodoDx4eNI3hZFr9qi7esDpAvyfkG65L8zxG26zl63J4i4T3vVOi37telweIh0SfdZpAnJFaRLvqM4hTTZ03n8dtKk2mZgVe5fBdwz86X11Ku2zaS7dnUmz15kfKjchOqxefcl/ysYnzirdcn/NOl1e4KI+3SiWyl0RNmvA1tOmml9BvhYw7V0O5s0w/soabmoU9+bgK2kpa37SUtdTbiL9Mv4c9Ix5NUT1NYCPk/az4+R7sLVZJ1fynXsIP3iVn+pP5brfIp0ODdTLiYdMuzg2KXAiPu0V60R96skSZIkSZIkSZIkSdJQ/T+5V6jHvFstxQAAAABJRU5ErkJggg==)"
      ],
      "metadata": {
        "id": "R1ldNuuxS9ab"
      }
    },
    {
      "cell_type": "code",
      "metadata": {
        "colab": {
          "base_uri": "https://localhost:8080/",
          "height": 452
        },
        "outputId": "4382715c-5563-4b07-934d-2b7ae53ea083",
        "id": "AJy0swh7S9ai"
      },
      "source": [
        "img2 = np.zeros((255, 255, 3), dtype=np.uint8)\n",
        "\n",
        "# ここに処理を書いてください\n",
        "\n",
        "plt.imshow(img2)"
      ],
      "execution_count": 16,
      "outputs": [
        {
          "output_type": "execute_result",
          "data": {
            "text/plain": [
              "<matplotlib.image.AxesImage at 0x7ee5d84145e0>"
            ]
          },
          "metadata": {},
          "execution_count": 16
        },
        {
          "output_type": "display_data",
          "data": {
            "text/plain": [
              "<Figure size 640x480 with 1 Axes>"
            ],
            "image/png": "[encoded data removed]"
          },
          "metadata": {}
        }
      ]
    },
    {
      "cell_type": "markdown",
      "source": [
        "#### 問題３\n",
        "\n",
        "![image.png](data:image/png;base64,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)"
      ],
      "metadata": {
        "id": "1KiuQzaNS9kc"
      }
    },
    {
      "cell_type": "code",
      "metadata": {
        "colab": {
          "base_uri": "https://localhost:8080/",
          "height": 452
        },
        "outputId": "60db93b2-add6-4f43-d869-b3a2190a7ad7",
        "id": "dsNEzQqnS9kc"
      },
      "source": [
        "img3 = np.zeros((255, 255, 3), dtype=np.uint8)\n",
        "\n",
        "# ここに処理を書いてください\n",
        "\n",
        "plt.imshow(img3)"
      ],
      "execution_count": 17,
      "outputs": [
        {
          "output_type": "execute_result",
          "data": {
            "text/plain": [
              "<matplotlib.image.AxesImage at 0x7ee5d847d1b0>"
            ]
          },
          "metadata": {},
          "execution_count": 17
        },
        {
          "output_type": "display_data",
          "data": {
            "text/plain": [
              "<Figure size 640x480 with 1 Axes>"
            ],
            "image/png": "[encoded data removed]"
          },
          "metadata": {}
        }
      ]
    },
    {
      "cell_type": "markdown",
      "source": [
        "## 問題４\n",
        "ランダムで座標・色を決めて四角を書くと，以下のような図形が書けます．\n",
        "\n",
        "```np.random.randint(10, 50)```とすると，10から50-1までの乱数が生成できます．\n",
        "\n",
        "![図1.png](data:image/png;base64,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)\n",
        "![図2.png](data:image/png;base64,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)\n"
      ],
      "metadata": {
        "id": "9xhEDzrPJUM6"
      }
    },
    {
      "cell_type": "code",
      "source": [
        "img4 = np.zeros((255, 255, 3), dtype=np.uint8)\n",
        "\n",
        "# ここに処理を書いてください\n",
        "\n",
        "plt.imshow(img4)"
      ],
      "metadata": {
        "colab": {
          "base_uri": "https://localhost:8080/",
          "height": 452
        },
        "id": "ijxXII75El9z",
        "outputId": "8f214aef-3e7b-4f9a-f8cc-4fecbfdf1c40"
      },
      "execution_count": 18,
      "outputs": [
        {
          "output_type": "execute_result",
          "data": {
            "text/plain": [
              "<matplotlib.image.AxesImage at 0x7ee5d82ea7d0>"
            ]
          },
          "metadata": {},
          "execution_count": 18
        },
        {
          "output_type": "display_data",
          "data": {
            "text/plain": [
              "<Figure size 640x480 with 1 Axes>"
            ],
            "image/png": "[encoded data removed]"
          },
          "metadata": {}
        }
      ]
    },
    {
      "cell_type": "code",
      "source": [],
      "metadata": {
        "id": "X1CpGlkPFuUB"
      },
      "execution_count": 18,
      "outputs": []
    }
  ]
}
